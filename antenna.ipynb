{
  "nbformat": 4,
  "nbformat_minor": 0,
  "metadata": {
    "colab": {
      "name": "antenna.ipynb",
      "provenance": [],
      "collapsed_sections": [
        "RcNlm4xqxhOE"
      ]
    },
    "kernelspec": {
      "name": "python3",
      "display_name": "Python 3"
    }
  },
  "cells": [
    {
      "cell_type": "markdown",
      "metadata": {
        "id": "qH1yij0Y03ze",
        "colab_type": "text"
      },
      "source": [
        "# Introdução\n",
        "\n",
        "Vamos construir uma alternativa aos simuladores eletromagnéticos. Dessa forma, nossa entrada serão as dimensões geométricas da antena, enquanto que a nossa predição será sobre algumas características da antena. Tendo isso em mente, temos um problema de regressão.\n",
        "\n",
        "## Variáveis independentes\n",
        "\n",
        "![Célula unitária SRR](https://uo1u3g.by.files.1drv.com/y4mxDEcz91qGqkdsD4XtYtNiPOKAvOJDjNUN_Q-xW8GMwGEVqyK-Qgh4QFodlRXxT6qcMFWLFg1PR73p5lZxtLQcANRhjosXLiqq-21GMlMBVES5sXyVb46oGPIyrIZ_IV-IJrS30os0aehUln1Eum4r78-QtZ-N39G9VW5f5yZUY__EzCT9-lLKgdPzlfSqJJ8mHFZKoZJvjJFND_1q8KoTA?width=256&height=214&cropmode=none)\n",
        "\n",
        "Sobre as variáveis da célula unitária:\n",
        "\n",
        "*   **`Wm`** - Altura da célula SRR quadrada (em mm)\n",
        "*   **`W0m`** - *Gap* dos anéis (em mm)\n",
        "*   **`dm`** - Distância entre os anéis (em mm)\n",
        "*   **`tm`** - Espessura dos anéis (em mm)\n",
        "\n",
        "![Arranjo na antena](https://sp2bga.by.files.1drv.com/y4m3lL2gnN8MtyZlc7TJ9SUIBnIQnJFR5rK1YHChA2CC1P746C87Eerm_TdngTHT01ecZUdm1cwR8Bc3sF29N_iO-r1UkyhpQlRrnQZL7AVgCUwqeNmMh3WJ59pAgVSC1SJrKADPPwLeZiIgQ9l_khGUuHrKb3b46RgPoLQmT_Qw2Of_jGeKyw-aCvEaZ9Du8aLHG21WAfX3M-Tv2pVLfmeGw?width=238&height=256&cropmode=none)\n",
        "\n",
        "Sobre as variáveis do arranjo:\n",
        "\n",
        "*   **`Xa`** - Distância em X do arranjo até o *patch* (em mm)\n",
        "*   **`Ya`** - Distância em Y entre as células do arranjo (em mm)\n",
        "*   **`rows`** - Quantidade de células no arranjo (de cada lado)\n",
        "\n",
        "## Variáveis dependentes\n",
        "\n",
        "*   **`gain`** - ganho da antena (em dB)\n",
        "*   **`bandwidth`** - largura de banda (em MHz)\n",
        "*   **`s`** - perda por retorno (em dB)\n"
      ]
    },
    {
      "cell_type": "markdown",
      "metadata": {
        "id": "oUTd9MZmmtNz",
        "colab_type": "text"
      },
      "source": [
        "# Importando os dados e as bibliotecas\n"
      ]
    },
    {
      "cell_type": "code",
      "metadata": {
        "id": "s3GKrZGg0t5o",
        "colab_type": "code",
        "colab": {}
      },
      "source": [
        "import numpy as np\n",
        "import pandas as pd\n",
        "import matplotlib.pyplot as plt\n",
        "\n",
        "from sklearn.model_selection import train_test_split, GridSearchCV\n",
        "from sklearn.metrics import mean_squared_error\n",
        "from sklearn.preprocessing import StandardScaler, Normalizer\n",
        "\n",
        "from sklearn.linear_model import Lasso\n",
        "from sklearn.neighbors import KNeighborsRegressor\n",
        "\n",
        "from sklearn.pipeline import Pipeline"
      ],
      "execution_count": 0,
      "outputs": []
    },
    {
      "cell_type": "code",
      "metadata": {
        "id": "vvLBuzIDzZzM",
        "colab_type": "code",
        "colab": {}
      },
      "source": [
        "import warnings\n",
        "warnings.filterwarnings('ignore')"
      ],
      "execution_count": 0,
      "outputs": []
    },
    {
      "cell_type": "code",
      "metadata": {
        "id": "Ox4VCIMpmk0L",
        "colab_type": "code",
        "outputId": "316586ba-20a8-4898-de7c-9bd81a64a21c",
        "colab": {
          "base_uri": "https://localhost:8080/",
          "height": 34
        }
      },
      "source": [
        "from google.colab import drive\n",
        "drive.mount('/content/drive', force_remount=True)\n",
        "\n",
        "url = \"drive/My Drive/antenna.csv\""
      ],
      "execution_count": 0,
      "outputs": [
        {
          "output_type": "stream",
          "text": [
            "Mounted at /content/drive\n"
          ],
          "name": "stdout"
        }
      ]
    },
    {
      "cell_type": "code",
      "metadata": {
        "id": "lTgFsxBc2mhX",
        "colab_type": "code",
        "outputId": "f9314fc0-c6b8-4c73-bda7-906cf8095113",
        "colab": {
          "base_uri": "https://localhost:8080/",
          "height": 224
        }
      },
      "source": [
        "data = pd.read_csv(url)\n",
        "\n",
        "data.head()"
      ],
      "execution_count": 0,
      "outputs": [
        {
          "output_type": "execute_result",
          "data": {
            "text/html": [
              "<div>\n",
              "<style scoped>\n",
              "    .dataframe tbody tr th:only-of-type {\n",
              "        vertical-align: middle;\n",
              "    }\n",
              "\n",
              "    .dataframe tbody tr th {\n",
              "        vertical-align: top;\n",
              "    }\n",
              "\n",
              "    .dataframe thead th {\n",
              "        text-align: right;\n",
              "    }\n",
              "</style>\n",
              "<table border=\"1\" class=\"dataframe\">\n",
              "  <thead>\n",
              "    <tr style=\"text-align: right;\">\n",
              "      <th></th>\n",
              "      <th>Wm</th>\n",
              "      <th>W0m</th>\n",
              "      <th>dm</th>\n",
              "      <th>tm</th>\n",
              "      <th>rows</th>\n",
              "      <th>Xa</th>\n",
              "      <th>Ya</th>\n",
              "      <th>gain</th>\n",
              "      <th>vswr</th>\n",
              "      <th>bandwidth</th>\n",
              "      <th>s</th>\n",
              "      <th>pr</th>\n",
              "      <th>p0</th>\n",
              "    </tr>\n",
              "  </thead>\n",
              "  <tbody>\n",
              "    <tr>\n",
              "      <th>0</th>\n",
              "      <td>2142.9</td>\n",
              "      <td>162.86</td>\n",
              "      <td>77.143</td>\n",
              "      <td>214.29</td>\n",
              "      <td>3.0</td>\n",
              "      <td>0.0</td>\n",
              "      <td>2142.9</td>\n",
              "      <td>2.799175</td>\n",
              "      <td>1.372040</td>\n",
              "      <td>110.6698</td>\n",
              "      <td>-16.090654</td>\n",
              "      <td>0.204248</td>\n",
              "      <td>0.483952</td>\n",
              "    </tr>\n",
              "    <tr>\n",
              "      <th>1</th>\n",
              "      <td>2142.9</td>\n",
              "      <td>162.86</td>\n",
              "      <td>77.143</td>\n",
              "      <td>214.29</td>\n",
              "      <td>3.0</td>\n",
              "      <td>3543.5</td>\n",
              "      <td>6964.3</td>\n",
              "      <td>2.817305</td>\n",
              "      <td>1.638103</td>\n",
              "      <td>120.7497</td>\n",
              "      <td>-12.328015</td>\n",
              "      <td>0.197374</td>\n",
              "      <td>0.464289</td>\n",
              "    </tr>\n",
              "    <tr>\n",
              "      <th>2</th>\n",
              "      <td>2142.9</td>\n",
              "      <td>162.86</td>\n",
              "      <td>351.430</td>\n",
              "      <td>214.29</td>\n",
              "      <td>5.0</td>\n",
              "      <td>8365.0</td>\n",
              "      <td>6964.3</td>\n",
              "      <td>2.941413</td>\n",
              "      <td>1.242714</td>\n",
              "      <td>123.6901</td>\n",
              "      <td>-19.313586</td>\n",
              "      <td>0.212885</td>\n",
              "      <td>0.490808</td>\n",
              "    </tr>\n",
              "    <tr>\n",
              "      <th>3</th>\n",
              "      <td>2142.9</td>\n",
              "      <td>162.86</td>\n",
              "      <td>351.430</td>\n",
              "      <td>214.29</td>\n",
              "      <td>3.0</td>\n",
              "      <td>8365.0</td>\n",
              "      <td>2142.9</td>\n",
              "      <td>2.844078</td>\n",
              "      <td>1.242587</td>\n",
              "      <td>122.4301</td>\n",
              "      <td>-19.317644</td>\n",
              "      <td>0.212405</td>\n",
              "      <td>0.496603</td>\n",
              "    </tr>\n",
              "    <tr>\n",
              "      <th>4</th>\n",
              "      <td>2142.9</td>\n",
              "      <td>162.86</td>\n",
              "      <td>351.430</td>\n",
              "      <td>214.29</td>\n",
              "      <td>3.0</td>\n",
              "      <td>8365.0</td>\n",
              "      <td>6964.3</td>\n",
              "      <td>2.812315</td>\n",
              "      <td>1.271176</td>\n",
              "      <td>124.3198</td>\n",
              "      <td>-18.459992</td>\n",
              "      <td>0.207997</td>\n",
              "      <td>0.489240</td>\n",
              "    </tr>\n",
              "  </tbody>\n",
              "</table>\n",
              "</div>"
            ],
            "text/plain": [
              "       Wm     W0m       dm      tm  ...  bandwidth          s        pr        p0\n",
              "0  2142.9  162.86   77.143  214.29  ...   110.6698 -16.090654  0.204248  0.483952\n",
              "1  2142.9  162.86   77.143  214.29  ...   120.7497 -12.328015  0.197374  0.464289\n",
              "2  2142.9  162.86  351.430  214.29  ...   123.6901 -19.313586  0.212885  0.490808\n",
              "3  2142.9  162.86  351.430  214.29  ...   122.4301 -19.317644  0.212405  0.496603\n",
              "4  2142.9  162.86  351.430  214.29  ...   124.3198 -18.459992  0.207997  0.489240\n",
              "\n",
              "[5 rows x 13 columns]"
            ]
          },
          "metadata": {
            "tags": []
          },
          "execution_count": 17
        }
      ]
    },
    {
      "cell_type": "markdown",
      "metadata": {
        "id": "JlbSRpxdpmSj",
        "colab_type": "text"
      },
      "source": [
        "# Limpeza e preparação dos dados"
      ]
    },
    {
      "cell_type": "code",
      "metadata": {
        "id": "rK1tKy_KteNj",
        "colab_type": "code",
        "outputId": "19b7751d-7880-41e5-ee55-38779a76f9ac",
        "colab": {
          "base_uri": "https://localhost:8080/",
          "height": 68
        }
      },
      "source": [
        "data.columns"
      ],
      "execution_count": 0,
      "outputs": [
        {
          "output_type": "execute_result",
          "data": {
            "text/plain": [
              "Index(['Wm', 'W0m', 'dm', 'tm', 'rows', 'Xa', 'Ya', 'gain', 'vswr',\n",
              "       'bandwidth', 's', 'pr', 'p0'],\n",
              "      dtype='object')"
            ]
          },
          "metadata": {
            "tags": []
          },
          "execution_count": 18
        }
      ]
    },
    {
      "cell_type": "code",
      "metadata": {
        "id": "qC6wwBH5tx7T",
        "colab_type": "code",
        "outputId": "0a074512-375e-4790-be0f-58d5d40bdf0d",
        "colab": {
          "base_uri": "https://localhost:8080/",
          "height": 34
        }
      },
      "source": [
        "data.shape"
      ],
      "execution_count": 0,
      "outputs": [
        {
          "output_type": "execute_result",
          "data": {
            "text/plain": [
              "(572, 13)"
            ]
          },
          "metadata": {
            "tags": []
          },
          "execution_count": 19
        }
      ]
    },
    {
      "cell_type": "code",
      "metadata": {
        "id": "Y3ixIOJ6x-b8",
        "colab_type": "code",
        "outputId": "60c29046-f025-450b-b1a6-dbbb2274d4d6",
        "colab": {
          "base_uri": "https://localhost:8080/",
          "height": 317
        }
      },
      "source": [
        "data.describe()"
      ],
      "execution_count": 0,
      "outputs": [
        {
          "output_type": "execute_result",
          "data": {
            "text/html": [
              "<div>\n",
              "<style scoped>\n",
              "    .dataframe tbody tr th:only-of-type {\n",
              "        vertical-align: middle;\n",
              "    }\n",
              "\n",
              "    .dataframe tbody tr th {\n",
              "        vertical-align: top;\n",
              "    }\n",
              "\n",
              "    .dataframe thead th {\n",
              "        text-align: right;\n",
              "    }\n",
              "</style>\n",
              "<table border=\"1\" class=\"dataframe\">\n",
              "  <thead>\n",
              "    <tr style=\"text-align: right;\">\n",
              "      <th></th>\n",
              "      <th>Wm</th>\n",
              "      <th>W0m</th>\n",
              "      <th>dm</th>\n",
              "      <th>tm</th>\n",
              "      <th>rows</th>\n",
              "      <th>Xa</th>\n",
              "      <th>Ya</th>\n",
              "      <th>gain</th>\n",
              "      <th>vswr</th>\n",
              "      <th>bandwidth</th>\n",
              "      <th>s</th>\n",
              "      <th>pr</th>\n",
              "      <th>p0</th>\n",
              "    </tr>\n",
              "  </thead>\n",
              "  <tbody>\n",
              "    <tr>\n",
              "      <th>count</th>\n",
              "      <td>572.000000</td>\n",
              "      <td>572.000000</td>\n",
              "      <td>572.000000</td>\n",
              "      <td>572.000000</td>\n",
              "      <td>572.000000</td>\n",
              "      <td>572.000000</td>\n",
              "      <td>572.000000</td>\n",
              "      <td>572.000000</td>\n",
              "      <td>572.000000</td>\n",
              "      <td>509.000000</td>\n",
              "      <td>572.000000</td>\n",
              "      <td>572.000000</td>\n",
              "      <td>572.000000</td>\n",
              "    </tr>\n",
              "    <tr>\n",
              "      <th>mean</th>\n",
              "      <td>2244.048252</td>\n",
              "      <td>400.594178</td>\n",
              "      <td>275.425776</td>\n",
              "      <td>224.404825</td>\n",
              "      <td>4.097902</td>\n",
              "      <td>4063.246329</td>\n",
              "      <td>6947.469755</td>\n",
              "      <td>2.678568</td>\n",
              "      <td>2.094927</td>\n",
              "      <td>118.036075</td>\n",
              "      <td>-16.104948</td>\n",
              "      <td>0.192872</td>\n",
              "      <td>0.456955</td>\n",
              "    </tr>\n",
              "    <tr>\n",
              "      <th>std</th>\n",
              "      <td>691.578895</td>\n",
              "      <td>184.905214</td>\n",
              "      <td>150.901130</td>\n",
              "      <td>69.157890</td>\n",
              "      <td>1.443942</td>\n",
              "      <td>3287.862064</td>\n",
              "      <td>5136.193313</td>\n",
              "      <td>0.683242</td>\n",
              "      <td>1.914750</td>\n",
              "      <td>11.553491</td>\n",
              "      <td>7.897142</td>\n",
              "      <td>0.046994</td>\n",
              "      <td>0.089213</td>\n",
              "    </tr>\n",
              "    <tr>\n",
              "      <th>min</th>\n",
              "      <td>2142.900000</td>\n",
              "      <td>162.860000</td>\n",
              "      <td>77.143000</td>\n",
              "      <td>214.290000</td>\n",
              "      <td>3.000000</td>\n",
              "      <td>0.000000</td>\n",
              "      <td>2142.900000</td>\n",
              "      <td>-5.654378</td>\n",
              "      <td>1.041183</td>\n",
              "      <td>32.759900</td>\n",
              "      <td>-33.903172</td>\n",
              "      <td>0.037383</td>\n",
              "      <td>0.186297</td>\n",
              "    </tr>\n",
              "    <tr>\n",
              "      <th>25%</th>\n",
              "      <td>2142.900000</td>\n",
              "      <td>162.860000</td>\n",
              "      <td>77.143000</td>\n",
              "      <td>214.290000</td>\n",
              "      <td>3.000000</td>\n",
              "      <td>1132.800000</td>\n",
              "      <td>2142.900000</td>\n",
              "      <td>2.815006</td>\n",
              "      <td>1.187911</td>\n",
              "      <td>119.490100</td>\n",
              "      <td>-21.321550</td>\n",
              "      <td>0.200121</td>\n",
              "      <td>0.470947</td>\n",
              "    </tr>\n",
              "    <tr>\n",
              "      <th>50%</th>\n",
              "      <td>2142.900000</td>\n",
              "      <td>325.710000</td>\n",
              "      <td>214.290000</td>\n",
              "      <td>214.290000</td>\n",
              "      <td>3.000000</td>\n",
              "      <td>3543.500000</td>\n",
              "      <td>6964.300000</td>\n",
              "      <td>2.876220</td>\n",
              "      <td>1.438023</td>\n",
              "      <td>122.220100</td>\n",
              "      <td>-14.910812</td>\n",
              "      <td>0.211927</td>\n",
              "      <td>0.490360</td>\n",
              "    </tr>\n",
              "    <tr>\n",
              "      <th>75%</th>\n",
              "      <td>2142.900000</td>\n",
              "      <td>488.570000</td>\n",
              "      <td>351.430000</td>\n",
              "      <td>214.290000</td>\n",
              "      <td>5.000000</td>\n",
              "      <td>5954.300000</td>\n",
              "      <td>11786.000000</td>\n",
              "      <td>2.921877</td>\n",
              "      <td>1.725260</td>\n",
              "      <td>123.269800</td>\n",
              "      <td>-11.498286</td>\n",
              "      <td>0.214335</td>\n",
              "      <td>0.497100</td>\n",
              "    </tr>\n",
              "    <tr>\n",
              "      <th>max</th>\n",
              "      <td>6964.300000</td>\n",
              "      <td>651.430000</td>\n",
              "      <td>488.570000</td>\n",
              "      <td>696.430000</td>\n",
              "      <td>7.000000</td>\n",
              "      <td>10776.000000</td>\n",
              "      <td>16607.000000</td>\n",
              "      <td>3.238539</td>\n",
              "      <td>8.377999</td>\n",
              "      <td>124.740100</td>\n",
              "      <td>-2.083432</td>\n",
              "      <td>0.229538</td>\n",
              "      <td>0.499826</td>\n",
              "    </tr>\n",
              "  </tbody>\n",
              "</table>\n",
              "</div>"
            ],
            "text/plain": [
              "                Wm         W0m          dm  ...           s          pr          p0\n",
              "count   572.000000  572.000000  572.000000  ...  572.000000  572.000000  572.000000\n",
              "mean   2244.048252  400.594178  275.425776  ...  -16.104948    0.192872    0.456955\n",
              "std     691.578895  184.905214  150.901130  ...    7.897142    0.046994    0.089213\n",
              "min    2142.900000  162.860000   77.143000  ...  -33.903172    0.037383    0.186297\n",
              "25%    2142.900000  162.860000   77.143000  ...  -21.321550    0.200121    0.470947\n",
              "50%    2142.900000  325.710000  214.290000  ...  -14.910812    0.211927    0.490360\n",
              "75%    2142.900000  488.570000  351.430000  ...  -11.498286    0.214335    0.497100\n",
              "max    6964.300000  651.430000  488.570000  ...   -2.083432    0.229538    0.499826\n",
              "\n",
              "[8 rows x 13 columns]"
            ]
          },
          "metadata": {
            "tags": []
          },
          "execution_count": 20
        }
      ]
    },
    {
      "cell_type": "code",
      "metadata": {
        "id": "KQGuu-2vp2Gh",
        "colab_type": "code",
        "outputId": "8ce7d835-d7aa-425b-857c-c65e9593ca36",
        "colab": {
          "base_uri": "https://localhost:8080/",
          "height": 323
        }
      },
      "source": [
        "data.info()"
      ],
      "execution_count": 0,
      "outputs": [
        {
          "output_type": "stream",
          "text": [
            "<class 'pandas.core.frame.DataFrame'>\n",
            "RangeIndex: 572 entries, 0 to 571\n",
            "Data columns (total 13 columns):\n",
            "Wm           572 non-null float64\n",
            "W0m          572 non-null float64\n",
            "dm           572 non-null float64\n",
            "tm           572 non-null float64\n",
            "rows         572 non-null float64\n",
            "Xa           572 non-null float64\n",
            "Ya           572 non-null float64\n",
            "gain         572 non-null float64\n",
            "vswr         572 non-null float64\n",
            "bandwidth    509 non-null float64\n",
            "s            572 non-null float64\n",
            "pr           572 non-null float64\n",
            "p0           572 non-null float64\n",
            "dtypes: float64(13)\n",
            "memory usage: 58.2 KB\n"
          ],
          "name": "stdout"
        }
      ]
    },
    {
      "cell_type": "markdown",
      "metadata": {
        "id": "Pw5tzawsp6IY",
        "colab_type": "text"
      },
      "source": [
        "Aquelas simulações que não possuem `bandwidth` significam que a antena utilizada não ressoa (não funciona) na frequência adotada.\n",
        "\n",
        "Dessa forma, vamos limpar os valores nulos.\n",
        "\n",
        "## Limpando os valores nulos\n",
        "\n",
        "A estratégia aqui é descartar toda linha que não possui `bandwidth`."
      ]
    },
    {
      "cell_type": "code",
      "metadata": {
        "id": "i2k-sZfKr_xl",
        "colab_type": "code",
        "colab": {}
      },
      "source": [
        "data = data.dropna()"
      ],
      "execution_count": 0,
      "outputs": []
    },
    {
      "cell_type": "code",
      "metadata": {
        "id": "46waKu8XChrK",
        "colab_type": "code",
        "outputId": "5fd8b1dd-ba77-49ae-a4c7-748c92fd3cf3",
        "colab": {
          "base_uri": "https://localhost:8080/",
          "height": 34
        }
      },
      "source": [
        "data.shape"
      ],
      "execution_count": 0,
      "outputs": [
        {
          "output_type": "execute_result",
          "data": {
            "text/plain": [
              "(509, 13)"
            ]
          },
          "metadata": {
            "tags": []
          },
          "execution_count": 23
        }
      ]
    },
    {
      "cell_type": "markdown",
      "metadata": {
        "id": "TmLFW4OA3ErC",
        "colab_type": "text"
      },
      "source": [
        "# Separação dos dados\n",
        "\n"
      ]
    },
    {
      "cell_type": "markdown",
      "metadata": {
        "id": "55s8GzWmsMtM",
        "colab_type": "text"
      },
      "source": [
        "Inicialmente, queremos passar as dimensões físicas de uma antena e obter suas respectivas especificações finais.\n",
        "\n",
        "Separando as colunas *features* (X) das *targets* (Y). "
      ]
    },
    {
      "cell_type": "code",
      "metadata": {
        "id": "mcmoz9OzLpBx",
        "colab_type": "code",
        "colab": {}
      },
      "source": [
        "X_columns = ['Wm', 'W0m', 'dm', 'tm', 'Xa', 'Ya', 'rows']\n",
        "y_columns = ['gain', 'bandwidth', 's']\n",
        "\n",
        "X = data[X_columns]\n",
        "y = data[y_columns]"
      ],
      "execution_count": 0,
      "outputs": []
    },
    {
      "cell_type": "markdown",
      "metadata": {
        "id": "u25LR5Lnv1A4",
        "colab_type": "text"
      },
      "source": [
        "# Construindo um modelo para o ganho"
      ]
    },
    {
      "cell_type": "markdown",
      "metadata": {
        "id": "nrKjBZ5Jv-LP",
        "colab_type": "text"
      },
      "source": [
        "Vamos separar `gain` de `y`:"
      ]
    },
    {
      "cell_type": "code",
      "metadata": {
        "id": "D_WBjfSMwTG5",
        "colab_type": "code",
        "colab": {}
      },
      "source": [
        "gain = y['gain']"
      ],
      "execution_count": 0,
      "outputs": []
    },
    {
      "cell_type": "code",
      "metadata": {
        "id": "oEz0oO-JxQ-d",
        "colab_type": "code",
        "outputId": "144b52bb-4975-4acf-94cb-dffa9352a240",
        "colab": {
          "base_uri": "https://localhost:8080/",
          "height": 301
        }
      },
      "source": [
        "data.boxplot('gain', 'rows')\n",
        "plt.show()"
      ],
      "execution_count": 0,
      "outputs": [
        {
          "output_type": "display_data",
          "data": {
            "image/png": "[encoded data removed]",
            "text/plain": [
              "<Figure size 432x288 with 1 Axes>"
            ]
          },
          "metadata": {
            "tags": []
          }
        }
      ]
    },
    {
      "cell_type": "markdown",
      "metadata": {
        "id": "CB5pg4mBUN3Q",
        "colab_type": "text"
      },
      "source": [
        "Aqui podemos ver alguns *outliers* quando temos 3 `rows`. Esse tipo de informação não é útil e muitas vezes acaba atrapalhando a modelagem. Vamos remover as linhas que não satisfazem a condição `gain > 0`.\u001c"
      ]
    },
    {
      "cell_type": "code",
      "metadata": {
        "id": "mP7-fxgcUNEy",
        "colab_type": "code",
        "colab": {}
      },
      "source": [
        "X = X[gain > 0]\n",
        "gain = gain[gain > 0]"
      ],
      "execution_count": 0,
      "outputs": []
    },
    {
      "cell_type": "markdown",
      "metadata": {
        "id": "k8jlVC2Jwjky",
        "colab_type": "text"
      },
      "source": [
        "Checando a variância das features, temos:"
      ]
    },
    {
      "cell_type": "code",
      "metadata": {
        "id": "GpUX_a8qmSYD",
        "colab_type": "code",
        "outputId": "a09135c7-1f8f-4e0d-f836-92be563d77d6",
        "colab": {
          "base_uri": "https://localhost:8080/",
          "height": 153
        }
      },
      "source": [
        "print(X.var())"
      ],
      "execution_count": 0,
      "outputs": [
        {
          "output_type": "stream",
          "text": [
            "Wm      3.171436e+05\n",
            "W0m     3.427141e+04\n",
            "dm      2.280619e+04\n",
            "tm      3.171436e+03\n",
            "Xa      9.805929e+06\n",
            "Ya      2.821793e+07\n",
            "rows    1.998020e+00\n",
            "dtype: float64\n"
          ],
          "name": "stdout"
        }
      ]
    },
    {
      "cell_type": "markdown",
      "metadata": {
        "id": "-JF59lEMwyay",
        "colab_type": "text"
      },
      "source": [
        "É possível observar que a variância de todas as features, exceto `rows`, é bem alta. Isso é sinal de que teremos que normalizar os dados antes da modelagem.\u001c"
      ]
    },
    {
      "cell_type": "markdown",
      "metadata": {
        "id": "RcNlm4xqxhOE",
        "colab_type": "text"
      },
      "source": [
        "### Seleção de feature"
      ]
    },
    {
      "cell_type": "markdown",
      "metadata": {
        "id": "hmyE2y60xdwO",
        "colab_type": "text"
      },
      "source": [
        "Verificando qual feature tem mais impacto sobre o ganho através do algoritmo `Lasso Regression`, temos:"
      ]
    },
    {
      "cell_type": "code",
      "metadata": {
        "id": "DpK7pKNr3H1D",
        "colab_type": "code",
        "outputId": "836d419f-ac3d-4c8a-bc99-9bdc0f604215",
        "colab": {
          "base_uri": "https://localhost:8080/"
        }
      },
      "source": [
        "# Perform hyperparameter tuning on lasso regression\n",
        "param_grid = {'alpha': np.arange(1e-4, 1e-3, 1e-4)}\n",
        "\n",
        "lasso = Lasso(normalize=True)\n",
        "\n",
        "lasso_cv = GridSearchCV(lasso, param_grid, cv=5)\n",
        "lasso_cv.fit(X, gain)\n",
        "\n",
        "# Set best alpha\n",
        "print('O melhor alpha para o Lasso do ganho é {}'.format(lasso_cv.best_params_['alpha']))\n",
        "lasso.alpha = lasso_cv.best_params_['alpha']\n",
        "lasso.fit(X, gain)\n",
        "\n",
        "# Get coeficients from Lasso\n",
        "lasso_coef = lasso.coef_\n",
        "\n",
        "plt.plot(range(len(X_columns)), lasso_coef)\n",
        "plt.xticks(range(len(X_columns)), X_columns, rotation=60)\n",
        "plt.margins(0.02)\n",
        "plt.show()"
      ],
      "execution_count": 0,
      "outputs": [
        {
          "output_type": "stream",
          "text": [
            "O melhor alpha para o Lasso do ganho é 0.0002\n"
          ],
          "name": "stdout"
        },
        {
          "output_type": "display_data",
          "data": {
            "image/png": "[encoded data removed]",
            "text/plain": [
              "<Figure size 432x288 with 1 Axes>"
            ]
          },
          "metadata": {
            "tags": []
          }
        }
      ]
    },
    {
      "cell_type": "markdown",
      "metadata": {
        "id": "Qg0u-WHSzqL_",
        "colab_type": "text"
      },
      "source": [
        "Parece que a feature `rows` é que a que tem mais impacto sobre o ganho. É possível ver que essas duas variáveis possuem uma relação diretamente proporcional. Também é possível observar a mínima relação com `Wm`. Traduzindo, temos dois *insights* para o ganho: \n",
        "\n",
        "*   Quanto mais células SRR no arranjo, maior o ganho.\n",
        "*   Quanto menor a altura da célula SRR quadrada, maior o ganho."
      ]
    },
    {
      "cell_type": "markdown",
      "metadata": {
        "id": "XTQKqAZXxaXo",
        "colab_type": "text"
      },
      "source": [
        "### Treinamento do modelo"
      ]
    },
    {
      "cell_type": "markdown",
      "metadata": {
        "id": "pRDTyxT8QhOg",
        "colab_type": "text"
      },
      "source": [
        "Finalmente, vamos construir uma pipeline com os seguintes passos:\n",
        " - `Scaler` para unificar a escala dos dados\n",
        " - `KNeighborsRegressor` como algoritmo de regressão"
      ]
    },
    {
      "cell_type": "code",
      "metadata": {
        "id": "1B6YRjcnDF0L",
        "colab_type": "code",
        "outputId": "408dc1f9-b4d7-4475-cf4d-85cdaa37ba05",
        "colab": {
          "base_uri": "https://localhost:8080/",
          "height": 68
        }
      },
      "source": [
        "X_train, X_test, y_train, y_test = train_test_split(X, gain, random_state=42)\n",
        "\n",
        "# steps for the pipeline\n",
        "steps = [('normalizer', Normalizer()), # normalization to lower variance\n",
        "         ('scaler', StandardScaler()), # set features on the same scale\n",
        "         ('knn', KNeighborsRegressor())]\n",
        "pipeline = Pipeline(steps)\n",
        "\n",
        "# params for the cross-validation\n",
        "param_grid = {'knn__n_neighbors': np.arange(1, 8)}\n",
        "\n",
        "cv = GridSearchCV(pipeline, param_grid)\n",
        "cv.fit(X_train, y_train)\n",
        "\n",
        "y_pred = cv.predict(X_test)\n",
        "\n",
        "print('Melhores parâmetros: {}'.format(cv.best_params_))\n",
        "print('R^2: {}'.format(cv.score(X_test, y_test)))\n",
        "print('np.mean(R^2): {}'.format(mean_squared_error(y_test, y_pred)))"
      ],
      "execution_count": 0,
      "outputs": [
        {
          "output_type": "stream",
          "text": [
            "Melhores parâmetros: {'knn__n_neighbors': 1}\n",
            "R^2: 0.7708413831601835\n",
            "np.mean(R^2): 0.003626464389707951\n"
          ],
          "name": "stdout"
        }
      ]
    },
    {
      "cell_type": "markdown",
      "metadata": {
        "id": "9mxlBe-XMET9",
        "colab_type": "text"
      },
      "source": [
        "Salvando o melhor modelo:"
      ]
    },
    {
      "cell_type": "code",
      "metadata": {
        "id": "fXlAHl5UMF_N",
        "colab_type": "code",
        "colab": {}
      },
      "source": [
        "gain_best = cv.best_estimator_"
      ],
      "execution_count": 0,
      "outputs": []
    },
    {
      "cell_type": "markdown",
      "metadata": {
        "id": "0ppTc26Tt6XG",
        "colab_type": "text"
      },
      "source": [
        "# Construindo um modelo para a perda por retorno"
      ]
    },
    {
      "cell_type": "markdown",
      "metadata": {
        "id": "wtUMQ_c_t-Vn",
        "colab_type": "text"
      },
      "source": [
        "Vamos separar `s` de `y`:"
      ]
    },
    {
      "cell_type": "code",
      "metadata": {
        "id": "Bj_A6iSGuJTI",
        "colab_type": "code",
        "colab": {}
      },
      "source": [
        "X = data[X_columns]\n",
        "s = y['s']"
      ],
      "execution_count": 0,
      "outputs": []
    },
    {
      "cell_type": "code",
      "metadata": {
        "id": "BzGBsEopvPu7",
        "colab_type": "code",
        "outputId": "70b3d503-c292-43ec-f092-bf008b50fdd7",
        "colab": {
          "base_uri": "https://localhost:8080/",
          "height": 34
        }
      },
      "source": [
        "print(s.shape, X.shape)"
      ],
      "execution_count": 0,
      "outputs": [
        {
          "output_type": "stream",
          "text": [
            "(509,) (509, 7)\n"
          ],
          "name": "stdout"
        }
      ]
    },
    {
      "cell_type": "markdown",
      "metadata": {
        "id": "c1GCvqnbiUzd",
        "colab_type": "text"
      },
      "source": [
        "### Treinamento do modelo"
      ]
    },
    {
      "cell_type": "markdown",
      "metadata": {
        "id": "qXhL2tXD8aaY",
        "colab_type": "text"
      },
      "source": [
        "Utilizando novamente `KNeighborsRegressor` como modelo preditivo, temos:"
      ]
    },
    {
      "cell_type": "code",
      "metadata": {
        "id": "3dbyjVZt7lkZ",
        "colab_type": "code",
        "outputId": "2e0ac315-79c2-4f42-9019-23117b07cf5a",
        "colab": {
          "base_uri": "https://localhost:8080/",
          "height": 68
        }
      },
      "source": [
        "X_train, X_test, y_train, y_test = train_test_split(X, s, random_state=42)\n",
        "\n",
        "steps = [('normalizer', Normalizer()),\n",
        "         ('scaler', StandardScaler()),\n",
        "         ('knn', KNeighborsRegressor())]\n",
        "pipeline = Pipeline(steps)\n",
        "\n",
        "param_grid = {'knn__n_neighbors': np.arange(1, 8)}\n",
        "\n",
        "cv = GridSearchCV(pipeline, param_grid)\n",
        "cv.fit(X_train, y_train)\n",
        "\n",
        "y_pred = cv.predict(X_test)\n",
        "\n",
        "print('Melhores parâmetros: {}'.format(cv.best_params_))\n",
        "print('R^2: {}'.format(cv.score(X_test, y_test)))\n",
        "print('np.mean(R^2): {}'.format(mean_squared_error(y_test, y_pred)))"
      ],
      "execution_count": 0,
      "outputs": [
        {
          "output_type": "stream",
          "text": [
            "Melhores parâmetros: {'knn__n_neighbors': 2}\n",
            "R^2: 0.9438547673940144\n",
            "np.mean(R^2): 2.4539014474879512\n"
          ],
          "name": "stdout"
        }
      ]
    },
    {
      "cell_type": "markdown",
      "metadata": {
        "id": "glMoc0vNMMM8",
        "colab_type": "text"
      },
      "source": [
        "Salvando o melhor modelo:"
      ]
    },
    {
      "cell_type": "code",
      "metadata": {
        "id": "oqZueu3kMSbI",
        "colab_type": "code",
        "colab": {}
      },
      "source": [
        "s_best = cv.best_estimator_"
      ],
      "execution_count": 0,
      "outputs": []
    },
    {
      "cell_type": "markdown",
      "metadata": {
        "id": "fJ8MoD-hENXZ",
        "colab_type": "text"
      },
      "source": [
        "# Construindo um modelo para a largura de banda"
      ]
    },
    {
      "cell_type": "markdown",
      "metadata": {
        "id": "UYGXhZJeHK7O",
        "colab_type": "text"
      },
      "source": [
        "Vamos separar `bandwidth` de `y`:"
      ]
    },
    {
      "cell_type": "code",
      "metadata": {
        "id": "fVzBhS0BGPAb",
        "colab_type": "code",
        "colab": {}
      },
      "source": [
        "bandwidth = y['bandwidth']"
      ],
      "execution_count": 0,
      "outputs": []
    },
    {
      "cell_type": "markdown",
      "metadata": {
        "id": "JM0d4xRnHRTZ",
        "colab_type": "text"
      },
      "source": [
        "Encerrando com `KNeighborsRegressor`:"
      ]
    },
    {
      "cell_type": "code",
      "metadata": {
        "id": "3rWPJE0KGSc-",
        "colab_type": "code",
        "outputId": "24671fce-c109-4cba-b4c9-29b42b5eeeef",
        "colab": {
          "base_uri": "https://localhost:8080/",
          "height": 68
        }
      },
      "source": [
        "X_train, X_test, y_train, y_test = train_test_split(X, bandwidth, random_state=42)\n",
        "\n",
        "steps = [('normalizer', Normalizer()),\n",
        "         ('scaler', StandardScaler()),\n",
        "         ('knn', KNeighborsRegressor())]\n",
        "pipeline = Pipeline(steps)\n",
        "\n",
        "param_grid = {'knn__n_neighbors': np.arange(1, 8)}\n",
        "\n",
        "cv = GridSearchCV(pipeline, param_grid)\n",
        "cv.fit(X_train, y_train)\n",
        "\n",
        "y_pred = cv.predict(X_test)\n",
        "\n",
        "print('Melhores parâmetros: {}'.format(cv.best_params_))\n",
        "print('R^2: {}'.format(cv.score(X_test, y_test)))\n",
        "print('np.mean(R^2): {}'.format(mean_squared_error(y_test, y_pred)))"
      ],
      "execution_count": 0,
      "outputs": [
        {
          "output_type": "stream",
          "text": [
            "Melhores parâmetros: {'knn__n_neighbors': 2}\n",
            "R^2: 0.8781878882090125\n",
            "np.mean(R^2): 15.612865834843792\n"
          ],
          "name": "stdout"
        }
      ]
    },
    {
      "cell_type": "markdown",
      "metadata": {
        "id": "_1cN_XRTNF3x",
        "colab_type": "text"
      },
      "source": [
        "Salvando o melhor modelo:"
      ]
    },
    {
      "cell_type": "code",
      "metadata": {
        "id": "V8O3x1dgNHyY",
        "colab_type": "code",
        "colab": {}
      },
      "source": [
        "bandwidth_best = cv.best_estimator_"
      ],
      "execution_count": 0,
      "outputs": []
    }
  ]
}